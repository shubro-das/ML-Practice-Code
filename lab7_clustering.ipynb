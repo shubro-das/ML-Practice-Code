{
 "cells": [
  {
   "cell_type": "code",
   "execution_count": 1,
   "id": "22480155",
   "metadata": {},
   "outputs": [
    {
     "name": "stdout",
     "output_type": "stream",
     "text": [
      "   CustomerID  Gender  Age  Annual Income (k$)  Spending Score (1-100)\n",
      "0           1    Male   19                  15                      39\n",
      "1           2    Male   21                  15                      81\n",
      "2           3  Female   20                  16                       6\n",
      "3           4  Female   23                  16                      77\n",
      "4           5  Female   31                  17                      40\n"
     ]
    },
    {
     "data": {
      "application/vnd.plotly.v1+json": {
       "config": {
        "plotlyServerURL": "https://plot.ly"
       },
       "data": [
        {
         "customdata": {
          "bdata": "AQMFBwkLDQ8RExUXGRsdHyEjJScpKy0=",
          "dtype": "i1",
          "shape": "23, 1"
         },
         "hovertemplate": "color=4<br>Principal Component 1=%{x}<br>Principal Component 2=%{y}<br>CustomerID=%{customdata[0]}<extra></extra>",
         "legendgroup": "4",
         "marker": {
          "color": "#636efa",
          "symbol": "circle"
         },
         "mode": "markers",
         "name": "4",
         "orientation": "v",
         "showlegend": true,
         "type": "scatter",
         "x": {
          "bdata": "m7Et0P+X+L9RyL/W+FMDwPW6iYV1Sve/fiDI6mvlAsASR9sgzlYDwJiw+alj7ADAL4mj+uR8AMAuMFhtVe0AwKNeMhN0wve/9fh+6/yH+b8pZ0tPzXb2v5moP+q2mgHAxHo+CNP1/b/XvIr36g32vwO8R37OD/a/iNiu1Y6+AMDLXLtzuxgAwKMzaGwSzfu/05ZSKDQN+r9jwBFcmc30v5o5wGcYa/C/jtUnEjYY77++Irmeng/zvw==",
          "dtype": "f8"
         },
         "xaxis": "x",
         "y": {
          "bdata": "aMNXWriC7b9RfaYKxNeFPxhy4o9lqey/GspJAJaMsD+Xy9EgPUXGPwmcR01qYcC/bJUvg4ZwwL/6Ssqv/tKyv4mtFrWZ0OS/jnSASUGi27+VvkgtTDniv6Rp+xlR/NE/zS6/IHBsvT/+K586hETYv7bw7b+OyNS/IiInVBVh3D8EgOEx2MfgP2vQEe88/M8/I2ffjRnmyD/4WUFSex2dP9qNyXiJh8i/NYexrqWWyL8gxMHztyucPw==",
          "dtype": "f8"
         },
         "yaxis": "y"
        },
        {
         "customdata": {
          "bdata": "AgQGCAoMDhASFBYYGhweICIkJigqLg==",
          "dtype": "i1",
          "shape": "22, 1"
         },
         "hovertemplate": "color=2<br>Principal Component 1=%{x}<br>Principal Component 2=%{y}<br>CustomerID=%{customdata[0]}<extra></extra>",
         "legendgroup": "2",
         "marker": {
          "color": "#EF553B",
          "symbol": "circle"
         },
         "mode": "markers",
         "name": "2",
         "orientation": "v",
         "showlegend": true,
         "type": "scatter",
         "x": {
          "bdata": "Iy8p+jOW2L/G/5R1B+Pdv3P8iJCV6t2/SdQkEfN5qz/jFguumr7gv4uLQBB25Ms/joIatjj61r+XSnUgtXbTv4pLpF6sSeS//SbI/EcZ0z9JdeohcRjXv/nVC3I9XtW/Tg4fQpD0d7/voyfyW6Liv/hd5slURsQ/7HJlBXZ2yb8fuIoawtTZPzkR+I25Bbo/B/HgDLFJt7/vzEYQk/2mP1Dq8UTiO+E/Of/nVPB6xr8=",
          "dtype": "f8"
         },
         "xaxis": "x",
         "y": {
          "bdata": "w6Nnf+eZAMC3AwVIgAP/v+S0WOmCJP6/f2UKB+/OAsBByZZGp4X7vxIz0q/BsAPAaWQmmExJ/b9nso99LSr+v6KPa77qBfi/7I+Inm+bAsAgKXUdV835v0yBfTHKXvm/yWjwdRcH/L/gtR4N3s3yv/ADgMe8yv2/KzqnlQk297+dpyhVu0L+v6l6ZWfmbfm/3prI5dV79b9i8UoHEBH1v31gUrn6Gfy/jjeaaCOf778=",
          "dtype": "f8"
         },
         "yaxis": "y"
        },
        {
         "customdata": {
          "bdata": "LAAvADAAMQAyADMANAA1ADYANwA4ADkAOgA7ADwAPQA+AD8AQABBAEIAQwBEAEUARgBHAEgASQBKAEsATABNAE4ATwBQAFEAUgBTAFQAVQBWAFcAWABZAFoAWwBcAF0AXgBfAGAAYQBiAGMAZABlAGYAZwBoAGkAagBrAGwAbQBuAG8AcABxAHIAcwB0AHUAdgB3AHgAeQB6AHsAfwCFAI8A",
          "dtype": "i2",
          "shape": "81, 1"
         },
         "hovertemplate": "color=0<br>Principal Component 1=%{x}<br>Principal Component 2=%{y}<br>CustomerID=%{customdata[0]}<extra></extra>",
         "legendgroup": "0",
         "marker": {
          "color": "#00cc96",
          "symbol": "circle"
         },
         "mode": "markers",
         "name": "0",
         "orientation": "v",
         "showlegend": true,
         "type": "scatter",
         "x": {
          "bdata": "im++VX9E0r8heM9m1hTbvwAssl5ykeS/9bHA2db16L/1scDZ1vXov3gNime05dy/OFvqIUyvzb80NgYi/afXv54cLcLkOsq/B9m2oea747/+EFw3aj/nv9YGcp3Q9Ny/Yjte5Ov94b8/LOJyp77XvxWcfzS4Q+C/q0CK+bzrzb9QvJdHoLfQv/XwMPixQtS/UrS6sZXZv7+l7SQTQErUvyI3QPLG8Li/oYn33QEM1r+YwZxzhY/ZvyI3QPLG8Li/k11vPkdR27/SvPdvChLHvxjlVkLuL+G/AOcMSVxZ1L8/RpV6HxrAv8KhNx8R9NC/h3fVTRKfsr915x95Gaa5v44LyqieZM6/sis1UpBWwL+srVQV2rzZv6lj2ucT2sO/Lw8WRRYwp7+oSSfgm37bv7V1r39WOda/H8JOoBmwgz++PQrq0rXSv9S/w512N74/E+DIN8JEoj90junZKZfJPxGBH1UImse/dWrZmv7ztj8lLc5wmdvSv9hv1VK7mqi/0ynCiyfj0r+44znsR7/Ov74v6bBvj6E/yZf//2tbur/3H4H4WRmVvx6lfIzgSsu/2urApzuSlb97nmTC/FnLv7+1AFcdC5a/dKic4aHy0T8LcaRsNdfFPwGpSQK5Wsk/g2a/LHnWx79HX56AK+iuPywgtdkNUKm/8O9cN47ewL9m/KSbdmB2P38P5BYkgr0/rne8NhnIxT9N6URtqu3Av4JLgLXg/Ja/Y5Re0Ulvrj8OKkQ/s0W9P3blxO9+67O/XIY48Twh1z8nrD/DhWeYvwCNULsgEtc/BPF98F5Q1T/XOq/y9i67v5dn4OVJSNw/07qc5m9Xwb8vtIQcjGbBvweWT+QmgME/",
          "dtype": "f8"
         },
         "xaxis": "x",
         "y": {
          "bdata": "lv/00p8b7L/9242aQPnlvxzYht5y5N2/Msxp6Kkb1b8yzGnoqRvVv7VSczpqnOG/pMK9ZXGj6L8Kn1YtEoHiv/1yzo1Xxue/O8JFOVQy1b+apPYbmlbMv9guhH/pQNy/6r45VOI51b85jJnqQ47av0+AfPR6xdG/EkxbcIar4b8U/vGKpcrgv+eIjQXSldq/ZOanSA9x47+fTdyK3BnXv76WuHD1k+K/o7EJwBpY1b+seWQql9TRv76WuHD1k+K/sd2RX9US0L9AHkgGsGbcv+TJWOZiP7a/DNd5lfEh0L/tGjwhPm7cv4CHaAF91ra/wWUczOsB0r/FyUkBKkDQv273siyE3b2/k1vubND8zL9RUBeuTZmoP5wjSddMecm/vQHvlq3D078XGFYCrlOzP0R7k/h3Fny/szmULDFH178iLzys656vv8f3yudX2tO/qUemDiUqzb9xkJHNp6PVv4y6l0+Kp6c/c8orT1ZBxr8SRd3f2+/KP5kfhpM0QZI/0t2fauPz0D+2S/Wpv+DKP+XH/VzIhLC/wmd2e1uesj9DQEcz0LWDv1CKsgknVc4/OAq4yDfypj9xgIr/iKbSPz/yIM/xaLk/f+6Ihi7yyb9GHehfQMi3vzSNMotHz76/duS3NMfk0D+YjwY4skOyP6knmHLnL8c/x+fDGTnd0D+7t01H4CjAP/C+xoWP1pA/QWBG6tSwo78RI3WULlnUP0RmVdJOpMo/8DTIBq8Rxz8CxX3bpwrAP2ImgXmgUdQ/X2WizvApv7/9ZD7ZB8bXP6FYxMgnUoq/zCaPkRHmjT/wOLY5TQvdP0f7j9SKAow/B+Gmd3Je5j+sfv80bRzoP1TpRDSPS+Y/",
          "dtype": "f8"
         },
         "yaxis": "y"
        },
        {
         "customdata": {
          "bdata": "fAB+AIAAggCEAIYAiACKAIwAjgCQAJIAlACWAJgAmgCcAJ4AoACiAKQApgCoAKoArACuALAAsgC0ALYAuAC6ALwAvgDAAMIAxADGAMgA",
          "dtype": "i2",
          "shape": "39, 1"
         },
         "hovertemplate": "color=1<br>Principal Component 1=%{x}<br>Principal Component 2=%{y}<br>CustomerID=%{customdata[0]}<extra></extra>",
         "legendgroup": "1",
         "marker": {
          "color": "#ab63fa",
          "symbol": "circle"
         },
         "mode": "markers",
         "name": "1",
         "orientation": "v",
         "showlegend": true,
         "type": "scatter",
         "x": {
          "bdata": "waDBQpGQ9T9ITbDR77HvP2OMg+VsL/g/8wDN3kfN7j/zAM3eR83uP6MYFyHeJuw/EkuCmnP59T9EBNnDucXuP+0FX7bywe4/s934r78I+T+Nm7TrqdT2P1bJulKbp/s/b8h/BIGN8T8x4MEbFQP5PzOSWDY0Ivg/P77g1e7c8j8xOQ2ppJL4Pz0MSrvPvfM/Q8nCfZ2L8T8M98jkjl72P6fMxjcNoPs/CK7x1lhy9T/GYQa5rqn+P7wpaU4tCvE/r/3grnJP9j+cFOBM6sb9P3bSm4jUkvs/ibuc6lwb9D+TtUTvVn3/P+S4UNTIdf8/XNfYUptiAEDAmgHN25MCQEWae3MUSPk/bQC19FLOAEDrkB++npX6P4s8qehkSARA9R1Qcq8oA0Dyc3MXPVsDQHh+ci0+tQdA",
          "dtype": "f8"
         },
         "xaxis": "x",
         "y": {
          "bdata": "y81AZ/OM7L+FdB4HGsfev3VmB01DVu6/QJ2awWKJ2b9AnZrBYonZvwWOceYnyNC/N6VHV+l15r+uJjjMd5HSv8jWDaMEK86/3ot3Ihog6b9EaBDquv3iv4gkPghq6eq/54ogr9XUyr/xsm3qKebjv/UWmx9oJOK/ObytenVnzr/zZAQFSQXjvxQW/FI+t9K/VRS+uercw7+ygjqZ08XZv/at2xJ/8eO/RnDeNvKolb+wuwGmv2Hhv2GnLr7tLtc/rbx64sHOoD8hBK07BsTbv915vZWP/s6/jj07Wi29zD+vIKANmcbLvy2XuenHEkk/v70bHWjMm7/QMLXmxaTPv9goHzN8SuM/Mmn+mwJXyD8oepT9ziPkP7rFwWv75tI/ULhbXr0J6j8XDoN0Xs7xPzZlzY94mvI/",
          "dtype": "f8"
         },
         "yaxis": "y"
        },
        {
         "customdata": {
          "bdata": "fQCBAIMAhwCJAIsAjQCRAJMAlQCXAJkAmwCdAJ8AoQCjAKUApwCpAKsArQCvALEAswC1ALcAuQC7AL0AvwDBAMMAxQDHAA==",
          "dtype": "i2",
          "shape": "35, 1"
         },
         "hovertemplate": "color=3<br>Principal Component 1=%{x}<br>Principal Component 2=%{y}<br>CustomerID=%{customdata[0]}<extra></extra>",
         "legendgroup": "3",
         "marker": {
          "color": "#FFA15A",
          "symbol": "circle"
         },
         "mode": "markers",
         "name": "3",
         "orientation": "v",
         "showlegend": true,
         "type": "scatter",
         "x": {
          "bdata": "naQcZHbw1L+AfoZ78Wrpv3waWUazLOu/JrMfLAP27L8qF01hQTTrv4rdIdmEtOe/2BNBfM8767+aUoGGdVvjvxrT37X/mas/Ee7pcCVr07/++QZn7jPcvwkmjwap7ta/+JXZMbD13b/cXBiKBSjsv9xcGIoFKOy/CXSaLpaXtD/wNaVsNA3mv4TBSKIdLXO/O1c0Dxc6wr8+3hrQ0qWzPzLQfWMkr9O/JqT1w2n02L/mMJ+z8PTRv93x8zva4sy/mOHN5bFAvr+A/NWIQvjeP9sAwgW+pKY/fr8qOntc5z/YmbvxAtPXPyApbYs79s0/dzymhqiF2T/AUQGDUnHQP11GVlRlS+U/FeZwkkWC8j82lgY7793yPw==",
          "dtype": "f8"
         },
         "xaxis": "x",
         "y": {
          "bdata": "VGUvAJ7G6j9pGMP8w7n1P2dmLOKkmvY/CVLuhIA5+T8MBIWfn1j4P+O2XjPbdfc/sKHdXJoW+j9fYNwRoeD3P/Jw2aEsrOo/PYLFgsnq8z84xUzA+xz2PzrQLmiqy/Q/NmwBM2yN9j8mNZfrAiT9PyY1l+sCJP0/PV4hN0FH7T+kkKvk5638Pwl9uCviLvU/1Q7sxxFA+D+wJfOQi5v1P6FH1Naxwfs/njzyLgMT/T9078vCPjD8P3ahYt1dT/s/l4/t647o/T/3cBiL2rr3P7gvDxXfoP8/pi8XQOGE9T87SJzQkfj8P24UvmVfdABA4T5AGxxG/j8KS8EFGpcEQHF60XRFWARA8od8iEkBA0D35dXXgpMHQA==",
          "dtype": "f8"
         },
         "yaxis": "y"
        }
       ],
       "layout": {
        "legend": {
         "title": {
          "text": "color"
         },
         "tracegroupgap": 0
        },
        "template": {
         "data": {
          "bar": [
           {
            "error_x": {
             "color": "#2a3f5f"
            },
            "error_y": {
             "color": "#2a3f5f"
            },
            "marker": {
             "line": {
              "color": "#E5ECF6",
              "width": 0.5
             },
             "pattern": {
              "fillmode": "overlay",
              "size": 10,
              "solidity": 0.2
             }
            },
            "type": "bar"
           }
          ],
          "barpolar": [
           {
            "marker": {
             "line": {
              "color": "#E5ECF6",
              "width": 0.5
             },
             "pattern": {
              "fillmode": "overlay",
              "size": 10,
              "solidity": 0.2
             }
            },
            "type": "barpolar"
           }
          ],
          "carpet": [
           {
            "aaxis": {
             "endlinecolor": "#2a3f5f",
             "gridcolor": "white",
             "linecolor": "white",
             "minorgridcolor": "white",
             "startlinecolor": "#2a3f5f"
            },
            "baxis": {
             "endlinecolor": "#2a3f5f",
             "gridcolor": "white",
             "linecolor": "white",
             "minorgridcolor": "white",
             "startlinecolor": "#2a3f5f"
            },
            "type": "carpet"
           }
          ],
          "choropleth": [
           {
            "colorbar": {
             "outlinewidth": 0,
             "ticks": ""
            },
            "type": "choropleth"
           }
          ],
          "contour": [
           {
            "colorbar": {
             "outlinewidth": 0,
             "ticks": ""
            },
            "colorscale": [
             [
              0,
              "#0d0887"
             ],
             [
              0.1111111111111111,
              "#46039f"
             ],
             [
              0.2222222222222222,
              "#7201a8"
             ],
             [
              0.3333333333333333,
              "#9c179e"
             ],
             [
              0.4444444444444444,
              "#bd3786"
             ],
             [
              0.5555555555555556,
              "#d8576b"
             ],
             [
              0.6666666666666666,
              "#ed7953"
             ],
             [
              0.7777777777777778,
              "#fb9f3a"
             ],
             [
              0.8888888888888888,
              "#fdca26"
             ],
             [
              1,
              "#f0f921"
             ]
            ],
            "type": "contour"
           }
          ],
          "contourcarpet": [
           {
            "colorbar": {
             "outlinewidth": 0,
             "ticks": ""
            },
            "type": "contourcarpet"
           }
          ],
          "heatmap": [
           {
            "colorbar": {
             "outlinewidth": 0,
             "ticks": ""
            },
            "colorscale": [
             [
              0,
              "#0d0887"
             ],
             [
              0.1111111111111111,
              "#46039f"
             ],
             [
              0.2222222222222222,
              "#7201a8"
             ],
             [
              0.3333333333333333,
              "#9c179e"
             ],
             [
              0.4444444444444444,
              "#bd3786"
             ],
             [
              0.5555555555555556,
              "#d8576b"
             ],
             [
              0.6666666666666666,
              "#ed7953"
             ],
             [
              0.7777777777777778,
              "#fb9f3a"
             ],
             [
              0.8888888888888888,
              "#fdca26"
             ],
             [
              1,
              "#f0f921"
             ]
            ],
            "type": "heatmap"
           }
          ],
          "histogram": [
           {
            "marker": {
             "pattern": {
              "fillmode": "overlay",
              "size": 10,
              "solidity": 0.2
             }
            },
            "type": "histogram"
           }
          ],
          "histogram2d": [
           {
            "colorbar": {
             "outlinewidth": 0,
             "ticks": ""
            },
            "colorscale": [
             [
              0,
              "#0d0887"
             ],
             [
              0.1111111111111111,
              "#46039f"
             ],
             [
              0.2222222222222222,
              "#7201a8"
             ],
             [
              0.3333333333333333,
              "#9c179e"
             ],
             [
              0.4444444444444444,
              "#bd3786"
             ],
             [
              0.5555555555555556,
              "#d8576b"
             ],
             [
              0.6666666666666666,
              "#ed7953"
             ],
             [
              0.7777777777777778,
              "#fb9f3a"
             ],
             [
              0.8888888888888888,
              "#fdca26"
             ],
             [
              1,
              "#f0f921"
             ]
            ],
            "type": "histogram2d"
           }
          ],
          "histogram2dcontour": [
           {
            "colorbar": {
             "outlinewidth": 0,
             "ticks": ""
            },
            "colorscale": [
             [
              0,
              "#0d0887"
             ],
             [
              0.1111111111111111,
              "#46039f"
             ],
             [
              0.2222222222222222,
              "#7201a8"
             ],
             [
              0.3333333333333333,
              "#9c179e"
             ],
             [
              0.4444444444444444,
              "#bd3786"
             ],
             [
              0.5555555555555556,
              "#d8576b"
             ],
             [
              0.6666666666666666,
              "#ed7953"
             ],
             [
              0.7777777777777778,
              "#fb9f3a"
             ],
             [
              0.8888888888888888,
              "#fdca26"
             ],
             [
              1,
              "#f0f921"
             ]
            ],
            "type": "histogram2dcontour"
           }
          ],
          "mesh3d": [
           {
            "colorbar": {
             "outlinewidth": 0,
             "ticks": ""
            },
            "type": "mesh3d"
           }
          ],
          "parcoords": [
           {
            "line": {
             "colorbar": {
              "outlinewidth": 0,
              "ticks": ""
             }
            },
            "type": "parcoords"
           }
          ],
          "pie": [
           {
            "automargin": true,
            "type": "pie"
           }
          ],
          "scatter": [
           {
            "fillpattern": {
             "fillmode": "overlay",
             "size": 10,
             "solidity": 0.2
            },
            "type": "scatter"
           }
          ],
          "scatter3d": [
           {
            "line": {
             "colorbar": {
              "outlinewidth": 0,
              "ticks": ""
             }
            },
            "marker": {
             "colorbar": {
              "outlinewidth": 0,
              "ticks": ""
             }
            },
            "type": "scatter3d"
           }
          ],
          "scattercarpet": [
           {
            "marker": {
             "colorbar": {
              "outlinewidth": 0,
              "ticks": ""
             }
            },
            "type": "scattercarpet"
           }
          ],
          "scattergeo": [
           {
            "marker": {
             "colorbar": {
              "outlinewidth": 0,
              "ticks": ""
             }
            },
            "type": "scattergeo"
           }
          ],
          "scattergl": [
           {
            "marker": {
             "colorbar": {
              "outlinewidth": 0,
              "ticks": ""
             }
            },
            "type": "scattergl"
           }
          ],
          "scattermap": [
           {
            "marker": {
             "colorbar": {
              "outlinewidth": 0,
              "ticks": ""
             }
            },
            "type": "scattermap"
           }
          ],
          "scattermapbox": [
           {
            "marker": {
             "colorbar": {
              "outlinewidth": 0,
              "ticks": ""
             }
            },
            "type": "scattermapbox"
           }
          ],
          "scatterpolar": [
           {
            "marker": {
             "colorbar": {
              "outlinewidth": 0,
              "ticks": ""
             }
            },
            "type": "scatterpolar"
           }
          ],
          "scatterpolargl": [
           {
            "marker": {
             "colorbar": {
              "outlinewidth": 0,
              "ticks": ""
             }
            },
            "type": "scatterpolargl"
           }
          ],
          "scatterternary": [
           {
            "marker": {
             "colorbar": {
              "outlinewidth": 0,
              "ticks": ""
             }
            },
            "type": "scatterternary"
           }
          ],
          "surface": [
           {
            "colorbar": {
             "outlinewidth": 0,
             "ticks": ""
            },
            "colorscale": [
             [
              0,
              "#0d0887"
             ],
             [
              0.1111111111111111,
              "#46039f"
             ],
             [
              0.2222222222222222,
              "#7201a8"
             ],
             [
              0.3333333333333333,
              "#9c179e"
             ],
             [
              0.4444444444444444,
              "#bd3786"
             ],
             [
              0.5555555555555556,
              "#d8576b"
             ],
             [
              0.6666666666666666,
              "#ed7953"
             ],
             [
              0.7777777777777778,
              "#fb9f3a"
             ],
             [
              0.8888888888888888,
              "#fdca26"
             ],
             [
              1,
              "#f0f921"
             ]
            ],
            "type": "surface"
           }
          ],
          "table": [
           {
            "cells": {
             "fill": {
              "color": "#EBF0F8"
             },
             "line": {
              "color": "white"
             }
            },
            "header": {
             "fill": {
              "color": "#C8D4E3"
             },
             "line": {
              "color": "white"
             }
            },
            "type": "table"
           }
          ]
         },
         "layout": {
          "annotationdefaults": {
           "arrowcolor": "#2a3f5f",
           "arrowhead": 0,
           "arrowwidth": 1
          },
          "autotypenumbers": "strict",
          "coloraxis": {
           "colorbar": {
            "outlinewidth": 0,
            "ticks": ""
           }
          },
          "colorscale": {
           "diverging": [
            [
             0,
             "#8e0152"
            ],
            [
             0.1,
             "#c51b7d"
            ],
            [
             0.2,
             "#de77ae"
            ],
            [
             0.3,
             "#f1b6da"
            ],
            [
             0.4,
             "#fde0ef"
            ],
            [
             0.5,
             "#f7f7f7"
            ],
            [
             0.6,
             "#e6f5d0"
            ],
            [
             0.7,
             "#b8e186"
            ],
            [
             0.8,
             "#7fbc41"
            ],
            [
             0.9,
             "#4d9221"
            ],
            [
             1,
             "#276419"
            ]
           ],
           "sequential": [
            [
             0,
             "#0d0887"
            ],
            [
             0.1111111111111111,
             "#46039f"
            ],
            [
             0.2222222222222222,
             "#7201a8"
            ],
            [
             0.3333333333333333,
             "#9c179e"
            ],
            [
             0.4444444444444444,
             "#bd3786"
            ],
            [
             0.5555555555555556,
             "#d8576b"
            ],
            [
             0.6666666666666666,
             "#ed7953"
            ],
            [
             0.7777777777777778,
             "#fb9f3a"
            ],
            [
             0.8888888888888888,
             "#fdca26"
            ],
            [
             1,
             "#f0f921"
            ]
           ],
           "sequentialminus": [
            [
             0,
             "#0d0887"
            ],
            [
             0.1111111111111111,
             "#46039f"
            ],
            [
             0.2222222222222222,
             "#7201a8"
            ],
            [
             0.3333333333333333,
             "#9c179e"
            ],
            [
             0.4444444444444444,
             "#bd3786"
            ],
            [
             0.5555555555555556,
             "#d8576b"
            ],
            [
             0.6666666666666666,
             "#ed7953"
            ],
            [
             0.7777777777777778,
             "#fb9f3a"
            ],
            [
             0.8888888888888888,
             "#fdca26"
            ],
            [
             1,
             "#f0f921"
            ]
           ]
          },
          "colorway": [
           "#636efa",
           "#EF553B",
           "#00cc96",
           "#ab63fa",
           "#FFA15A",
           "#19d3f3",
           "#FF6692",
           "#B6E880",
           "#FF97FF",
           "#FECB52"
          ],
          "font": {
           "color": "#2a3f5f"
          },
          "geo": {
           "bgcolor": "white",
           "lakecolor": "white",
           "landcolor": "#E5ECF6",
           "showlakes": true,
           "showland": true,
           "subunitcolor": "white"
          },
          "hoverlabel": {
           "align": "left"
          },
          "hovermode": "closest",
          "mapbox": {
           "style": "light"
          },
          "paper_bgcolor": "white",
          "plot_bgcolor": "#E5ECF6",
          "polar": {
           "angularaxis": {
            "gridcolor": "white",
            "linecolor": "white",
            "ticks": ""
           },
           "bgcolor": "#E5ECF6",
           "radialaxis": {
            "gridcolor": "white",
            "linecolor": "white",
            "ticks": ""
           }
          },
          "scene": {
           "xaxis": {
            "backgroundcolor": "#E5ECF6",
            "gridcolor": "white",
            "gridwidth": 2,
            "linecolor": "white",
            "showbackground": true,
            "ticks": "",
            "zerolinecolor": "white"
           },
           "yaxis": {
            "backgroundcolor": "#E5ECF6",
            "gridcolor": "white",
            "gridwidth": 2,
            "linecolor": "white",
            "showbackground": true,
            "ticks": "",
            "zerolinecolor": "white"
           },
           "zaxis": {
            "backgroundcolor": "#E5ECF6",
            "gridcolor": "white",
            "gridwidth": 2,
            "linecolor": "white",
            "showbackground": true,
            "ticks": "",
            "zerolinecolor": "white"
           }
          },
          "shapedefaults": {
           "line": {
            "color": "#2a3f5f"
           }
          },
          "ternary": {
           "aaxis": {
            "gridcolor": "white",
            "linecolor": "white",
            "ticks": ""
           },
           "baxis": {
            "gridcolor": "white",
            "linecolor": "white",
            "ticks": ""
           },
           "bgcolor": "#E5ECF6",
           "caxis": {
            "gridcolor": "white",
            "linecolor": "white",
            "ticks": ""
           }
          },
          "title": {
           "x": 0.05
          },
          "xaxis": {
           "automargin": true,
           "gridcolor": "white",
           "linecolor": "white",
           "ticks": "",
           "title": {
            "standoff": 15
           },
           "zerolinecolor": "white",
           "zerolinewidth": 2
          },
          "yaxis": {
           "automargin": true,
           "gridcolor": "white",
           "linecolor": "white",
           "ticks": "",
           "title": {
            "standoff": 15
           },
           "zerolinecolor": "white",
           "zerolinewidth": 2
          }
         }
        },
        "title": {
         "text": "K-Means Clustering on Mall Customers Dataset"
        },
        "xaxis": {
         "anchor": "y",
         "domain": [
          0,
          1
         ],
         "title": {
          "text": "Principal Component 1"
         }
        },
        "yaxis": {
         "anchor": "x",
         "domain": [
          0,
          1
         ],
         "title": {
          "text": "Principal Component 2"
         }
        }
       }
      }
     },
     "metadata": {},
     "output_type": "display_data"
    }
   ],
   "source": [
    "import pandas as pd\n",
    "import numpy as np\n",
    "import plotly.express as px\n",
    "from sklearn.preprocessing import StandardScaler\n",
    "from sklearn.cluster import KMeans\n",
    "from sklearn.decomposition import PCA\n",
    "# Load dataset (Mall Customers Data)\n",
    "df = pd.read_csv('Mall_Customers.csv')\n",
    "# Display first few rows\n",
    "print(df.head())\n",
    "df.shape\n",
    "# Selecting relevant features: \"Annual Income (k$)\" & \"Spending Score (1-100)\"\n",
    "X = df[['Annual Income (k$)', 'Spending Score (1-100)']]\n",
    "# Normalize the data\n",
    "scaler = StandardScaler()\n",
    "X_scaled = scaler.fit_transform(X)\n",
    "# Apply K-Means Clustering (k=5 based on the Elbow Method)\n",
    "kmeans = KMeans(n_clusters=5, random_state=42, n_init=10)\n",
    "df['Cluster'] = kmeans.fit_predict(X_scaled)\n",
    "# Apply PCA for visualization (reduce to 2D)\n",
    "pca = PCA(n_components=2)\n",
    "X_pca = pca.fit_transform(X_scaled)\n",
    "# Convert to DataFrame for visualization\n",
    "df_pca = pd.DataFrame(X_pca, columns=['PCA1', 'PCA2'])\n",
    "df_pca['Cluster'] = df['Cluster']\n",
    "df_pca['CustomerID'] = df['CustomerID']\n",
    "# Interactive Scatter Plot using Plotly\n",
    "fig = px.scatter(\n",
    "df_pca, x=\"PCA1\", y=\"PCA2\", color=df_pca[\"Cluster\"].astype(str),\n",
    "title=\"K-Means Clustering on Mall Customers Dataset\",\n",
    "labels={\"Cluster\": \"Customer Segment\", \"PCA1\": \"Principal Component 1\",\n",
    "\"PCA2\": \"Principal Component 2\"},\n",
    "hover_data=[\"CustomerID\"]\n",
    ")\n",
    "fig.show()"
   ]
  }
 ],
 "metadata": {
  "kernelspec": {
   "display_name": "Python 3",
   "language": "python",
   "name": "python3"
  },
  "language_info": {
   "codemirror_mode": {
    "name": "ipython",
    "version": 3
   },
   "file_extension": ".py",
   "mimetype": "text/x-python",
   "name": "python",
   "nbconvert_exporter": "python",
   "pygments_lexer": "ipython3",
   "version": "3.11.9"
  }
 },
 "nbformat": 4,
 "nbformat_minor": 5
}
