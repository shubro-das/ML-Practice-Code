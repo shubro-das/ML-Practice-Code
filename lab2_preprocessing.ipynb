{
 "cells": [
  {
   "cell_type": "code",
   "execution_count": 2,
   "id": "39e9844b",
   "metadata": {},
   "outputs": [
    {
     "name": "stdout",
     "output_type": "stream",
     "text": [
      "Original Dataset:\n",
      "       Suburb           Address  Rooms Type      Price Method SellerG  \\\n",
      "0  Abbotsford      85 Turner St      2    h  1480000.0      S  Biggin   \n",
      "1  Abbotsford   25 Bloomburg St      2    h  1035000.0      S  Biggin   \n",
      "2  Abbotsford      5 Charles St      3    h  1465000.0     SP  Biggin   \n",
      "3  Abbotsford  40 Federation La      3    h   850000.0     PI  Biggin   \n",
      "4  Abbotsford       55a Park St      4    h  1600000.0     VB  Nelson   \n",
      "\n",
      "        Date  Distance  Postcode  ...  Bathroom  Car  Landsize  BuildingArea  \\\n",
      "0  3/12/2016       2.5    3067.0  ...       1.0  1.0     202.0           NaN   \n",
      "1  4/02/2016       2.5    3067.0  ...       1.0  0.0     156.0          79.0   \n",
      "2  4/03/2017       2.5    3067.0  ...       2.0  0.0     134.0         150.0   \n",
      "3  4/03/2017       2.5    3067.0  ...       2.0  1.0      94.0           NaN   \n",
      "4  4/06/2016       2.5    3067.0  ...       1.0  2.0     120.0         142.0   \n",
      "\n",
      "   YearBuilt  CouncilArea Lattitude  Longtitude             Regionname  \\\n",
      "0        NaN        Yarra  -37.7996    144.9984  Northern Metropolitan   \n",
      "1     1900.0        Yarra  -37.8079    144.9934  Northern Metropolitan   \n",
      "2     1900.0        Yarra  -37.8093    144.9944  Northern Metropolitan   \n",
      "3        NaN        Yarra  -37.7969    144.9969  Northern Metropolitan   \n",
      "4     2014.0        Yarra  -37.8072    144.9941  Northern Metropolitan   \n",
      "\n",
      "  Propertycount  \n",
      "0        4019.0  \n",
      "1        4019.0  \n",
      "2        4019.0  \n",
      "3        4019.0  \n",
      "4        4019.0  \n",
      "\n",
      "[5 rows x 21 columns]\n"
     ]
    }
   ],
   "source": [
    "# Import necessary libraries\n",
    "import pandas as pd  # Pandas is used for data manipulation and analysis\n",
    "import numpy as np   # NumPy is used for numerical computations\n",
    "\n",
    "dataset = pd.read_csv('melb_data.csv')\n",
    "print(\"Original Dataset:\")\n",
    "print(dataset.head())  # Display the first 5 rows"
   ]
  },
  {
   "cell_type": "code",
   "execution_count": 3,
   "id": "4bf38516",
   "metadata": {},
   "outputs": [
    {
     "name": "stdout",
     "output_type": "stream",
     "text": [
      "\n",
      "Missing values before cleaning:\n",
      "Suburb              0\n",
      "Address             0\n",
      "Rooms               0\n",
      "Type                0\n",
      "Price               0\n",
      "Method              0\n",
      "SellerG             0\n",
      "Date                0\n",
      "Distance            0\n",
      "Postcode            0\n",
      "Bedroom2            0\n",
      "Bathroom            0\n",
      "Car                62\n",
      "Landsize            0\n",
      "BuildingArea     6450\n",
      "YearBuilt        5375\n",
      "CouncilArea      1369\n",
      "Lattitude           0\n",
      "Longtitude          0\n",
      "Regionname          0\n",
      "Propertycount       0\n",
      "dtype: int64\n"
     ]
    }
   ],
   "source": [
    "print(\"\\nMissing values before cleaning:\")\n",
    "print(dataset.isnull().sum())"
   ]
  },
  {
   "cell_type": "code",
   "execution_count": 4,
   "id": "c8e3986e",
   "metadata": {},
   "outputs": [
    {
     "name": "stdout",
     "output_type": "stream",
     "text": [
      "\n",
      "Dataset after dropping rows with missing values:\n",
      "Suburb           0\n",
      "Address          0\n",
      "Rooms            0\n",
      "Type             0\n",
      "Price            0\n",
      "Method           0\n",
      "SellerG          0\n",
      "Date             0\n",
      "Distance         0\n",
      "Postcode         0\n",
      "Bedroom2         0\n",
      "Bathroom         0\n",
      "Car              0\n",
      "Landsize         0\n",
      "BuildingArea     0\n",
      "YearBuilt        0\n",
      "CouncilArea      0\n",
      "Lattitude        0\n",
      "Longtitude       0\n",
      "Regionname       0\n",
      "Propertycount    0\n",
      "dtype: int64\n"
     ]
    }
   ],
   "source": [
    "dataset = dataset.dropna()\n",
    "print(\"\\nDataset after dropping rows with missing values:\")\n",
    "print(dataset.isnull().sum())"
   ]
  },
  {
   "cell_type": "code",
   "execution_count": 7,
   "id": "c6210f5c",
   "metadata": {},
   "outputs": [
    {
     "name": "stdout",
     "output_type": "stream",
     "text": [
      "\n",
      "Dataset after removing duplicates:\n",
      "   Suburb  Address  Rooms  Type      Price  Method  SellerG  Date  Distance  \\\n",
      "1       0     2790      2     0  1035000.0       1       18    41       2.5   \n",
      "2       0     4520      3     0  1465000.0       3       18    42       2.5   \n",
      "4       0     4882      4     0  1600000.0       4      112    43       2.5   \n",
      "6       0     1027      3     0  1876000.0       1      112    46       2.5   \n",
      "7       0     6101      2     0  1636000.0       1      112    50       2.5   \n",
      "\n",
      "   Postcode  ...  Bathroom  Car  Landsize  BuildingArea  YearBuilt  \\\n",
      "1    3067.0  ...       1.0  0.0     156.0          79.0     1900.0   \n",
      "2    3067.0  ...       2.0  0.0     134.0         150.0     1900.0   \n",
      "4    3067.0  ...       1.0  2.0     120.0         142.0     2014.0   \n",
      "6    3067.0  ...       2.0  0.0     245.0         210.0     1910.0   \n",
      "7    3067.0  ...       1.0  2.0     256.0         107.0     1890.0   \n",
      "\n",
      "   CouncilArea  Lattitude  Longtitude  Regionname  Propertycount  \n",
      "1           29   -37.8079    144.9934           2         4019.0  \n",
      "2           29   -37.8093    144.9944           2         4019.0  \n",
      "4           29   -37.8072    144.9941           2         4019.0  \n",
      "6           29   -37.8024    144.9993           2         4019.0  \n",
      "7           29   -37.8060    144.9954           2         4019.0  \n",
      "\n",
      "[5 rows x 21 columns]\n"
     ]
    }
   ],
   "source": [
    "dataset = dataset.drop_duplicates()\n",
    "print(\"\\nDataset after removing duplicates:\")\n",
    "print(dataset.head())"
   ]
  },
  {
   "cell_type": "code",
   "execution_count": 8,
   "id": "a5820473",
   "metadata": {},
   "outputs": [
    {
     "name": "stdout",
     "output_type": "stream",
     "text": [
      "\n",
      "Data types of each column:\n",
      "Suburb             int16\n",
      "Address            int16\n",
      "Rooms              int64\n",
      "Type                int8\n",
      "Price            float64\n",
      "Method              int8\n",
      "SellerG            int16\n",
      "Date                int8\n",
      "Distance         float64\n",
      "Postcode         float64\n",
      "Bedroom2         float64\n",
      "Bathroom         float64\n",
      "Car              float64\n",
      "Landsize         float64\n",
      "BuildingArea     float64\n",
      "YearBuilt        float64\n",
      "CouncilArea         int8\n",
      "Lattitude        float64\n",
      "Longtitude       float64\n",
      "Regionname          int8\n",
      "Propertycount    float64\n",
      "dtype: object\n",
      "\n",
      "Dataset after converting categorical variables to numerical:\n",
      "   Suburb  Address  Rooms  Type      Price  Method  SellerG  Date  Distance  \\\n",
      "1       0     2790      2     0  1035000.0       1       18    41       2.5   \n",
      "2       0     4520      3     0  1465000.0       3       18    42       2.5   \n",
      "4       0     4882      4     0  1600000.0       4      112    43       2.5   \n",
      "6       0     1027      3     0  1876000.0       1      112    46       2.5   \n",
      "7       0     6101      2     0  1636000.0       1      112    50       2.5   \n",
      "\n",
      "   Postcode  ...  Bathroom  Car  Landsize  BuildingArea  YearBuilt  \\\n",
      "1    3067.0  ...       1.0  0.0     156.0          79.0     1900.0   \n",
      "2    3067.0  ...       2.0  0.0     134.0         150.0     1900.0   \n",
      "4    3067.0  ...       1.0  2.0     120.0         142.0     2014.0   \n",
      "6    3067.0  ...       2.0  0.0     245.0         210.0     1910.0   \n",
      "7    3067.0  ...       1.0  2.0     256.0         107.0     1890.0   \n",
      "\n",
      "   CouncilArea  Lattitude  Longtitude  Regionname  Propertycount  \n",
      "1           29   -37.8079    144.9934           2         4019.0  \n",
      "2           29   -37.8093    144.9944           2         4019.0  \n",
      "4           29   -37.8072    144.9941           2         4019.0  \n",
      "6           29   -37.8024    144.9993           2         4019.0  \n",
      "7           29   -37.8060    144.9954           2         4019.0  \n",
      "\n",
      "[5 rows x 21 columns]\n"
     ]
    }
   ],
   "source": [
    "# show datatypes\n",
    "print(\"\\nData types of each column:\")\n",
    "print(dataset.dtypes)"
   ]
  },
  {
   "cell_type": "code",
   "execution_count": 9,
   "id": "399c15b7",
   "metadata": {},
   "outputs": [
    {
     "name": "stdout",
     "output_type": "stream",
     "text": [
      "\n",
      "Dataset after converting categorical variables to numerical:\n",
      "   Suburb  Address  Rooms  Type      Price  Method  SellerG  Date  Distance  \\\n",
      "1       0     2790      2     0  1035000.0       1       18    41       2.5   \n",
      "2       0     4520      3     0  1465000.0       3       18    42       2.5   \n",
      "4       0     4882      4     0  1600000.0       4      112    43       2.5   \n",
      "6       0     1027      3     0  1876000.0       1      112    46       2.5   \n",
      "7       0     6101      2     0  1636000.0       1      112    50       2.5   \n",
      "\n",
      "   Postcode  ...  Bathroom  Car  Landsize  BuildingArea  YearBuilt  \\\n",
      "1    3067.0  ...       1.0  0.0     156.0          79.0     1900.0   \n",
      "2    3067.0  ...       2.0  0.0     134.0         150.0     1900.0   \n",
      "4    3067.0  ...       1.0  2.0     120.0         142.0     2014.0   \n",
      "6    3067.0  ...       2.0  0.0     245.0         210.0     1910.0   \n",
      "7    3067.0  ...       1.0  2.0     256.0         107.0     1890.0   \n",
      "\n",
      "   CouncilArea  Lattitude  Longtitude  Regionname  Propertycount  \n",
      "1           29   -37.8079    144.9934           2         4019.0  \n",
      "2           29   -37.8093    144.9944           2         4019.0  \n",
      "4           29   -37.8072    144.9941           2         4019.0  \n",
      "6           29   -37.8024    144.9993           2         4019.0  \n",
      "7           29   -37.8060    144.9954           2         4019.0  \n",
      "\n",
      "[5 rows x 21 columns]\n"
     ]
    }
   ],
   "source": [
    "# Convert categorical variables to numerical\n",
    "categorical_columns = dataset.select_dtypes(include=['object']).columns\n",
    "for col in categorical_columns:\n",
    "    dataset[col] = dataset[col].astype('category').cat.codes\n",
    "print(\"\\nDataset after converting categorical variables to numerical:\")\n",
    "print(dataset.head())"
   ]
  },
  {
   "cell_type": "code",
   "execution_count": 12,
   "id": "f2908679",
   "metadata": {},
   "outputs": [
    {
     "name": "stdout",
     "output_type": "stream",
     "text": [
      "\n",
      "Dataset after normalizing numerical columns:\n",
      "     Suburb   Address     Rooms      Type     Price    Method   SellerG  \\\n",
      "1 -1.703481 -0.152273 -0.959147 -0.683004 -0.050104 -0.382538 -1.382474   \n",
      "2 -1.703481  0.827068  0.070636 -0.683004  0.586785  1.367338 -1.382474   \n",
      "4 -1.703481  1.031994  1.100418 -0.683004  0.786739  2.242275  0.253089   \n",
      "6 -1.703481 -1.150295  0.070636 -0.683004  1.195533 -0.382538  0.253089   \n",
      "7 -1.703481  1.722061 -0.959147 -0.683004  0.840060 -0.382538  0.253089   \n",
      "\n",
      "       Date  Distance  Postcode  ...  Bathroom       Car  Landsize  \\\n",
      "1  1.045725 -1.292055 -0.404386  ... -0.810192 -1.692136 -0.351002   \n",
      "2  1.115150 -1.292055 -0.404386  ...  0.595562 -1.692136 -0.375516   \n",
      "4  1.184575 -1.292055 -0.404386  ... -0.810192  0.458525 -0.391116   \n",
      "6  1.392850 -1.292055 -0.404386  ...  0.595562 -1.692136 -0.251832   \n",
      "7  1.670551 -1.292055 -0.404386  ... -0.810192  0.458525 -0.239575   \n",
      "\n",
      "   BuildingArea  YearBuilt  CouncilArea  Lattitude  Longtitude  Regionname  \\\n",
      "1     -0.688818  -1.681692      1.55377   0.000055    0.032258   -0.918394   \n",
      "2      0.092821  -1.681692      1.55377  -0.018402    0.042342   -0.918394   \n",
      "4      0.004749   1.309989      1.55377   0.009284    0.039317   -0.918394   \n",
      "6      0.753360  -1.419263      1.55377   0.072566    0.091755   -0.918394   \n",
      "7     -0.380566  -1.944120      1.55377   0.025104    0.052427   -0.918394   \n",
      "\n",
      "   Propertycount  \n",
      "1      -0.787627  \n",
      "2      -0.787627  \n",
      "4      -0.787627  \n",
      "6      -0.787627  \n",
      "7      -0.787627  \n",
      "\n",
      "[5 rows x 21 columns]\n",
      "\n",
      "Cleaned dataset saved to 'cleaned_dataset.csv'.\n"
     ]
    }
   ],
   "source": [
    "# Normalize numerical columns   \n",
    "numerical_columns = dataset.select_dtypes(include=[np.number]).columns\n",
    "for col in numerical_columns:\n",
    "    dataset[col] = (dataset[col] - dataset[col].mean()) / dataset[col].std()\n",
    "print(\"\\nDataset after normalizing numerical columns:\")\n",
    "print(dataset.head())\n",
    "\n",
    "dataset.to_csv('cleaned_melb_data.csv', index=False)\n",
    "print(\"\\nCleaned dataset saved to 'cleaned_dataset.csv'.\")"
   ]
  }
 ],
 "metadata": {
  "kernelspec": {
   "display_name": "Python 3",
   "language": "python",
   "name": "python3"
  },
  "language_info": {
   "codemirror_mode": {
    "name": "ipython",
    "version": 3
   },
   "file_extension": ".py",
   "mimetype": "text/x-python",
   "name": "python",
   "nbconvert_exporter": "python",
   "pygments_lexer": "ipython3",
   "version": "3.11.9"
  }
 },
 "nbformat": 4,
 "nbformat_minor": 5
}
