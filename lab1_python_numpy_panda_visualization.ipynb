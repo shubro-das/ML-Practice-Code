{
 "cells": [
  {
   "cell_type": "code",
   "execution_count": 22,
   "id": "d508070e",
   "metadata": {},
   "outputs": [
    {
     "name": "stdout",
     "output_type": "stream",
     "text": [
      "Number a=1.0, Number b=2.0\n",
      "Addition =  3.0\n",
      "Subtraction =  -1.0\n",
      "Multiplication =  2.0\n",
      "Division =  0.5\n",
      "Modulas =  1.0\n",
      "Exponentiation =  1.0\n"
     ]
    }
   ],
   "source": [
    "def basic_arithmetic(a, b):\n",
    "    print(f'Number a={a}, Number b={b}')\n",
    "    print('Addition = ',a+b)\n",
    "    print('Subtraction = ',a-b)\n",
    "    print('Multiplication = ',a*b)\n",
    "    print('Division = ',a/b)\n",
    "    print('Modulas = ',a%b)\n",
    "    print('Exponentiation = ',a**b)\n",
    "    \n",
    "#input\n",
    "num1 = float(input('Enter the first number (a):'))\n",
    "num2 = float(input('Enter the second number (b):'))\n",
    "\n",
    "if num2!=0:\n",
    "    basic_arithmetic(num1,num2)\n",
    "else:\n",
    "    print('Division by zero is not valid please enter a valid 2nd number')\n"
   ]
  },
  {
   "cell_type": "code",
   "execution_count": 23,
   "id": "f1b361c5",
   "metadata": {},
   "outputs": [
    {
     "name": "stdout",
     "output_type": "stream",
     "text": [
      "1D Array:\n",
      "[10 20 30 40 50]\n",
      "\n",
      "2D Array:\n",
      "[[1 2 3]\n",
      " [4 5 6]\n",
      " [7 8 9]]\n",
      "\n",
      "Reshaped Array (3x4):\n",
      "[[ 1  2  3  4]\n",
      " [ 5  6  7  8]\n",
      " [ 9 10 11 12]]\n",
      "\n",
      "Sliced Array (First 2 Rows and 2 Columns):\n",
      "[[1 2]\n",
      " [4 5]]\n",
      "\n",
      "Element-wise Addition:\n",
      "[5 7 9]\n",
      "Element-wise Multiplication:\n",
      "[ 4 10 18]\n",
      "\n",
      "Maximum Value in 2D Array: 9\n",
      "Minimum Value in 2D Array: 1\n",
      "Mean Value of 1D Array: 30.0\n",
      "\n",
      "Transposed 2D Array:\n",
      "[[1 4 7]\n",
      " [2 5 8]\n",
      " [3 6 9]]\n",
      "\n",
      "Zeros Array:\n",
      "[[0. 0. 0.]\n",
      " [0. 0. 0.]]\n",
      "Ones Array:\n",
      "[[1. 1. 1.]\n",
      " [1. 1. 1.]]\n",
      "Identity Matrix:\n",
      "[[1. 0. 0.]\n",
      " [0. 1. 0.]\n",
      " [0. 0. 1.]]\n"
     ]
    }
   ],
   "source": [
    "#numpy\n",
    "\n",
    "import numpy as np  # Import the NumPy library\n",
    "\n",
    "# 1. Create a 1D NumPy Array\n",
    "array_1d = np.array([10, 20, 30, 40, 50])\n",
    "print(\"1D Array:\")\n",
    "print(array_1d)\n",
    "\n",
    "# 2. Create a 2D NumPy Array\n",
    "array_2d = np.array([[1, 2, 3], [4, 5, 6], [7, 8, 9]])\n",
    "print(\"\\n2D Array:\")\n",
    "print(array_2d)\n",
    "\n",
    "# 3. Reshape an Array\n",
    "reshaped_array = np.arange(1, 13).reshape(3, 4)  # Reshape to 3 rows, 4 columns\n",
    "print(\"\\nReshaped Array (3x4):\")\n",
    "print(reshaped_array)\n",
    "\n",
    "# 4. Slice an Array\n",
    "# Extract the first two rows and first two columns\n",
    "sliced_array = array_2d[:2, :2]\n",
    "print(\"\\nSliced Array (First 2 Rows and 2 Columns):\")\n",
    "print(sliced_array)\n",
    "\n",
    "# 5. Perform Element-wise Operations\n",
    "array_a = np.array([1, 2, 3])\n",
    "array_b = np.array([4, 5, 6])\n",
    "print(\"\\nElement-wise Addition:\")\n",
    "print(array_a + array_b)  # Add arrays\n",
    "print(\"Element-wise Multiplication:\")\n",
    "print(array_a * array_b)  # Multiply arrays\n",
    "\n",
    "# 6. Find Maximum, Minimum, and Mean\n",
    "print(\"\\nMaximum Value in 2D Array:\", array_2d.max())\n",
    "print(\"Minimum Value in 2D Array:\", array_2d.min())\n",
    "print(\"Mean Value of 1D Array:\", array_1d.mean())\n",
    "\n",
    "# 7. Transpose of a 2D Array\n",
    "transposed = array_2d.T\n",
    "print(\"\\nTransposed 2D Array:\")\n",
    "print(transposed)\n",
    "\n",
    "# 8. Create Special Arrays\n",
    "zeros_array = np.zeros((2, 3))  # 2x3 matrix of zeros\n",
    "ones_array = np.ones((2, 3))   # 2x3 matrix of ones\n",
    "identity_matrix = np.eye(3)    # 3x3 identity matrix\n",
    "print(\"\\nZeros Array:\")\n",
    "print(zeros_array)\n",
    "print(\"Ones Array:\")\n",
    "print(ones_array)\n",
    "print(\"Identity Matrix:\")\n",
    "print(identity_matrix)\n"
   ]
  },
  {
   "cell_type": "code",
   "execution_count": 24,
   "id": "33351f62",
   "metadata": {},
   "outputs": [
    {
     "name": "stdout",
     "output_type": "stream",
     "text": [
      "Dataset loaded successfully!\n",
      "\n",
      "First 5 rows of the dataset:\n",
      "   Index      Customer Id First Name Last Name  \\\n",
      "0      1  DD37Cf93aecA6Dc     Sheryl    Baxter   \n",
      "1      2  1Ef7b82A4CAAD10    Preston    Lozano   \n",
      "2      3  6F94879bDAfE5a6        Roy     Berry   \n",
      "3      4  5Cef8BFA16c5e3c      Linda     Olsen   \n",
      "4      5  053d585Ab6b3159     Joanna    Bender   \n",
      "\n",
      "                           Company               City  \\\n",
      "0                  Rasmussen Group       East Leonard   \n",
      "1                      Vega-Gentry  East Jimmychester   \n",
      "2                    Murillo-Perry      Isabelborough   \n",
      "3  Dominguez, Mcmillan and Donovan         Bensonview   \n",
      "4         Martin, Lang and Andrade     West Priscilla   \n",
      "\n",
      "                      Country                 Phone 1                Phone 2  \\\n",
      "0                       Chile            229.077.5154       397.884.0519x718   \n",
      "1                    Djibouti              5153435776       686-620-1820x944   \n",
      "2         Antigua and Barbuda         +1-539-402-0259    (496)978-3969x58947   \n",
      "3          Dominican Republic  001-808-617-6467x12895        +1-813-324-8756   \n",
      "4  Slovakia (Slovak Republic)  001-234-203-0635x76146  001-199-446-3860x3486   \n",
      "\n",
      "                         Email Subscription Date                      Website  \n",
      "0     zunigavanessa@smith.info        2020-08-24   http://www.stephenson.com/  \n",
      "1              vmata@colon.com        2021-04-23        http://www.hobbs.com/  \n",
      "2          beckycarr@hogan.com        2020-03-25     http://www.lawrence.com/  \n",
      "3  stanleyblackwell@benson.org        2020-06-02   http://www.good-lyons.com/  \n",
      "4      colinalvarado@miles.net        2021-04-17  https://goodwin-ingram.com/  \n"
     ]
    }
   ],
   "source": [
    "#panda\n",
    "\n",
    "# Import the pandas library\n",
    "# Pandas is used for data manipulation and analysis\n",
    "import pandas as pd  \n",
    "\n",
    "# Step 1: Load the Dataset\n",
    "# Load a CSV file into a pandas DataFrame\n",
    "# Replace 'your_dataset.csv' with the path to your dataset file\n",
    "dataset = pd.read_csv('customers-100.csv')  # Use read_csv() to load a CSV file\n",
    "print(\"Dataset loaded successfully!\")\n",
    "\n",
    "# Step 2: View the First Few Rows\n",
    "# Use head() to display the first 5 rows of the dataset (default is 5 rows)\n",
    "print(\"\\nFirst 5 rows of the dataset:\")\n",
    "print(dataset.head())"
   ]
  },
  {
   "cell_type": "code",
   "execution_count": 25,
   "id": "b8b70739",
   "metadata": {},
   "outputs": [
    {
     "name": "stdout",
     "output_type": "stream",
     "text": [
      "\n",
      "Shape of the dataset:\n",
      "Rows: 100, Columns: 12\n",
      "\n",
      "Dataset Information:\n",
      "<class 'pandas.core.frame.DataFrame'>\n",
      "RangeIndex: 100 entries, 0 to 99\n",
      "Data columns (total 12 columns):\n",
      " #   Column             Non-Null Count  Dtype \n",
      "---  ------             --------------  ----- \n",
      " 0   Index              100 non-null    int64 \n",
      " 1   Customer Id        100 non-null    object\n",
      " 2   First Name         100 non-null    object\n",
      " 3   Last Name          100 non-null    object\n",
      " 4   Company            100 non-null    object\n",
      " 5   City               100 non-null    object\n",
      " 6   Country            100 non-null    object\n",
      " 7   Phone 1            100 non-null    object\n",
      " 8   Phone 2            100 non-null    object\n",
      " 9   Email              100 non-null    object\n",
      " 10  Subscription Date  100 non-null    object\n",
      " 11  Website            100 non-null    object\n",
      "dtypes: int64(1), object(11)\n",
      "memory usage: 9.5+ KB\n"
     ]
    }
   ],
   "source": [
    "# Step 3: View the Shape of the Dataset\n",
    "# The shape attribute returns the dimensions of the dataset as (rows, columns)\n",
    "print(\"\\nShape of the dataset:\")\n",
    "print(f\"Rows: {dataset.shape[0]}, Columns: {dataset.shape[1]}\")\n",
    "\n",
    "# Step 4: Get Dataset Information\n",
    "# info() provides a concise summary of the dataset, including column names, data types, and missing values\n",
    "print(\"\\nDataset Information:\")\n",
    "dataset.info()\n",
    "\n"
   ]
  },
  {
   "cell_type": "code",
   "execution_count": 26,
   "id": "df8df95e",
   "metadata": {},
   "outputs": [
    {
     "name": "stdout",
     "output_type": "stream",
     "text": [
      "\n",
      "Missing values in each column:\n",
      "Index                0\n",
      "Customer Id          0\n",
      "First Name           0\n",
      "Last Name            0\n",
      "Company              0\n",
      "City                 0\n",
      "Country              0\n",
      "Phone 1              0\n",
      "Phone 2              0\n",
      "Email                0\n",
      "Subscription Date    0\n",
      "Website              0\n",
      "dtype: int64\n",
      "\n",
      "Statistical summary of the dataset:\n",
      "            Index\n",
      "count  100.000000\n",
      "mean    50.500000\n",
      "std     29.011492\n",
      "min      1.000000\n",
      "25%     25.750000\n",
      "50%     50.500000\n",
      "75%     75.250000\n",
      "max    100.000000\n"
     ]
    }
   ],
   "source": [
    "# Step 5: Check for Missing Values\n",
    "# isnull() checks for missing values, and sum() calculates the total missing values per column\n",
    "print(\"\\nMissing values in each column:\")\n",
    "print(dataset.isnull().sum())\n",
    "\n",
    "# Step 6: Describe the Dataset\n",
    "# describe() provides descriptive statistics for numerical columns\n",
    "# Includes count, mean, std, min, max, and percentiles\n",
    "print(\"\\nStatistical summary of the dataset:\")\n",
    "print(dataset.describe())"
   ]
  },
  {
   "cell_type": "code",
   "execution_count": 27,
   "id": "3dc1312c",
   "metadata": {},
   "outputs": [
    {
     "name": "stdout",
     "output_type": "stream",
     "text": [
      "\n",
      "Column Names:\n",
      "Index(['Index', 'Customer Id', 'First Name', 'Last Name', 'Company', 'City',\n",
      "       'Country', 'Phone 1', 'Phone 2', 'Email', 'Subscription Date',\n",
      "       'Website'],\n",
      "      dtype='object')\n",
      "\n",
      "Data Types of Columns:\n",
      "Index                 int64\n",
      "Customer Id          object\n",
      "First Name           object\n",
      "Last Name            object\n",
      "Company              object\n",
      "City                 object\n",
      "Country              object\n",
      "Phone 1              object\n",
      "Phone 2              object\n",
      "Email                object\n",
      "Subscription Date    object\n",
      "Website              object\n",
      "dtype: object\n"
     ]
    }
   ],
   "source": [
    "# Step 7: View Column Names\n",
    "# columns attribute returns a list of column names\n",
    "print(\"\\nColumn Names:\")\n",
    "print(dataset.columns)\n",
    "\n",
    "# Step 8: Check Data Types of Each Column\n",
    "# dtypes attribute shows the data types of each column\n",
    "print(\"\\nData Types of Columns:\")\n",
    "print(dataset.dtypes)"
   ]
  },
  {
   "cell_type": "code",
   "execution_count": 28,
   "id": "f7f04b2a",
   "metadata": {},
   "outputs": [
    {
     "name": "stdout",
     "output_type": "stream",
     "text": [
      "\n",
      "Random sample of 3 rows from the dataset:\n",
      "    Index      Customer Id First Name Last Name                     Company  \\\n",
      "74     75  D01Af0AF7cBbFeA     Regina     Stein                Guzman-Brown   \n",
      "13     14  A08A8aF8BE9FaD4   Kristine       Cox              Carpenter-Cook   \n",
      "64     65  636cBF0835E10ff     Eileen     Lynch  Knight, Abbott and Hubbard   \n",
      "\n",
      "            City          Country                Phone 1  \\\n",
      "74       Raystad  Solomon Islands  001-469-848-0724x4407   \n",
      "13      Jodyberg        Sri Lanka     786-284-3358x62152   \n",
      "64  Helenborough          Liberia  +1-158-951-4131x53578   \n",
      "\n",
      "                   Phone 2                      Email Subscription Date  \\\n",
      "74  001-085-360-4426x00357  zrosario@rojas-hardin.net        2022-01-15   \n",
      "13    +1-315-627-1796x8074   holdenmiranda@clarke.com        2021-02-08   \n",
      "64    001-673-779-6713x680      levigiles@vincent.com        2021-01-02   \n",
      "\n",
      "                      Website  \n",
      "74  http://www.johnston.info/  \n",
      "13    https://www.brandt.com/  \n",
      "64          http://mckay.com/  \n"
     ]
    }
   ],
   "source": [
    "# Step 08: Display a Sample of Random Rows\n",
    "# Use sample() to display a random sample of rows (e.g., 3 random rows)\n",
    "print(\"\\nRandom sample of 3 rows from the dataset:\")\n",
    "print(dataset.sample(3))"
   ]
  },
  {
   "cell_type": "code",
   "execution_count": 29,
   "id": "bd098112",
   "metadata": {},
   "outputs": [
    {
     "data": {
      "image/png": "[encoded data removed]",
      "text/plain": [
       "<Figure size 640x480 with 1 Axes>"
      ]
     },
     "metadata": {},
     "output_type": "display_data"
    },
    {
     "data": {
      "image/png": "[encoded data removed]",
      "text/plain": [
       "<Figure size 640x480 with 1 Axes>"
      ]
     },
     "metadata": {},
     "output_type": "display_data"
    }
   ],
   "source": [
    "import matplotlib.pyplot as plt\n",
    "\n",
    "# Histogram\n",
    "data = [20, 22, 24, 25, 23, 22, 21, 20, 24, 25]\n",
    "plt.hist(data, bins=5, color='blue', alpha=0.7)\n",
    "plt.title(\"Age Distribution\")\n",
    "plt.xlabel(\"Age\")\n",
    "plt.ylabel(\"Frequency\")\n",
    "plt.show()\n",
    "\n",
    "# Scatter Plot\n",
    "x = [1, 2, 3, 4, 5]\n",
    "y = [10, 20, 25, 30, 35]\n",
    "plt.scatter(x, y, color='red')\n",
    "plt.title(\"Simple Scatter Plot\")\n",
    "plt.xlabel(\"X-axis\")\n",
    "plt.ylabel(\"Y-axis\")\n",
    "plt.show()\n"
   ]
  }
 ],
 "metadata": {
  "kernelspec": {
   "display_name": "Python 3",
   "language": "python",
   "name": "python3"
  },
  "language_info": {
   "codemirror_mode": {
    "name": "ipython",
    "version": 3
   },
   "file_extension": ".py",
   "mimetype": "text/x-python",
   "name": "python",
   "nbconvert_exporter": "python",
   "pygments_lexer": "ipython3",
   "version": "3.11.9"
  }
 },
 "nbformat": 4,
 "nbformat_minor": 5
}
